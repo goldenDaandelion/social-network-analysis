{
  "nbformat": 4,
  "nbformat_minor": 0,
  "metadata": {
    "colab": {
      "provenance": [],
      "authorship_tag": "ABX9TyMHWX/9ae+sfSRJAP7MaTE4"
    },
    "kernelspec": {
      "name": "python3",
      "display_name": "Python 3"
    },
    "language_info": {
      "name": "python"
    }
  },
  "cells": [
    {
      "cell_type": "code",
      "execution_count": 2,
      "metadata": {
        "id": "XXxFsNjZrapK"
      },
      "outputs": [],
      "source": [
        "#ojnkj"
      ]
    },
    {
      "cell_type": "code",
      "source": [
        "!apt-get install python3.5"
      ],
      "metadata": {
        "colab": {
          "base_uri": "https://localhost:8080/"
        },
        "id": "MSctMQBrrmje",
        "outputId": "85c21527-0ef7-46b5-f501-0aee6b1c0105"
      },
      "execution_count": 3,
      "outputs": [
        {
          "output_type": "stream",
          "name": "stdout",
          "text": [
            "Reading package lists... Done\n",
            "Building dependency tree       \n",
            "Reading state information... Done\n",
            "The following package was automatically installed and is no longer required:\n",
            "  libnvidia-common-460\n",
            "Use 'apt autoremove' to remove it.\n",
            "The following additional packages will be installed:\n",
            "  libpython3.5-minimal libpython3.5-stdlib python3.5-minimal\n",
            "Suggested packages:\n",
            "  python3.5-venv binfmt-support\n",
            "The following NEW packages will be installed:\n",
            "  libpython3.5-minimal libpython3.5-stdlib python3.5 python3.5-minimal\n",
            "0 upgraded, 4 newly installed, 0 to remove and 20 not upgraded.\n",
            "Need to get 4,135 kB of archives.\n",
            "After this operation, 22.7 MB of additional disk space will be used.\n",
            "Get:1 http://ppa.launchpad.net/deadsnakes/ppa/ubuntu bionic/main amd64 libpython3.5-minimal amd64 3.5.10-1+bionic3 [542 kB]\n",
            "Get:2 http://ppa.launchpad.net/deadsnakes/ppa/ubuntu bionic/main amd64 python3.5-minimal amd64 3.5.10-1+bionic3 [1,274 kB]\n",
            "Get:3 http://ppa.launchpad.net/deadsnakes/ppa/ubuntu bionic/main amd64 libpython3.5-stdlib amd64 3.5.10-1+bionic3 [2,107 kB]\n",
            "Get:4 http://ppa.launchpad.net/deadsnakes/ppa/ubuntu bionic/main amd64 python3.5 amd64 3.5.10-1+bionic3 [213 kB]\n",
            "Fetched 4,135 kB in 3s (1,517 kB/s)\n",
            "Selecting previously unselected package libpython3.5-minimal:amd64.\n",
            "(Reading database ... 124016 files and directories currently installed.)\n",
            "Preparing to unpack .../libpython3.5-minimal_3.5.10-1+bionic3_amd64.deb ...\n",
            "Unpacking libpython3.5-minimal:amd64 (3.5.10-1+bionic3) ...\n",
            "Selecting previously unselected package python3.5-minimal.\n",
            "Preparing to unpack .../python3.5-minimal_3.5.10-1+bionic3_amd64.deb ...\n",
            "Unpacking python3.5-minimal (3.5.10-1+bionic3) ...\n",
            "Selecting previously unselected package libpython3.5-stdlib:amd64.\n",
            "Preparing to unpack .../libpython3.5-stdlib_3.5.10-1+bionic3_amd64.deb ...\n",
            "Unpacking libpython3.5-stdlib:amd64 (3.5.10-1+bionic3) ...\n",
            "Selecting previously unselected package python3.5.\n",
            "Preparing to unpack .../python3.5_3.5.10-1+bionic3_amd64.deb ...\n",
            "Unpacking python3.5 (3.5.10-1+bionic3) ...\n",
            "Setting up libpython3.5-minimal:amd64 (3.5.10-1+bionic3) ...\n",
            "Setting up libpython3.5-stdlib:amd64 (3.5.10-1+bionic3) ...\n",
            "Setting up python3.5-minimal (3.5.10-1+bionic3) ...\n",
            "Setting up python3.5 (3.5.10-1+bionic3) ...\n",
            "Processing triggers for man-db (2.8.3-2ubuntu0.1) ...\n",
            "Processing triggers for mime-support (3.60ubuntu1) ...\n"
          ]
        }
      ]
    },
    {
      "cell_type": "code",
      "source": [
        "!python --version"
      ],
      "metadata": {
        "colab": {
          "base_uri": "https://localhost:8080/"
        },
        "id": "izuDUpRGrmmh",
        "outputId": "02bd0950-db4c-44e2-970a-b89ffe82711e"
      },
      "execution_count": 4,
      "outputs": [
        {
          "output_type": "stream",
          "name": "stdout",
          "text": [
            "Python 3.8.16\n"
          ]
        }
      ]
    },
    {
      "cell_type": "code",
      "source": [
        "pip install pycairo"
      ],
      "metadata": {
        "colab": {
          "base_uri": "https://localhost:8080/"
        },
        "id": "GpX89ZM4rmpt",
        "outputId": "e92c3ddd-a431-42bc-eac3-b1c4217b8347"
      },
      "execution_count": 5,
      "outputs": [
        {
          "output_type": "stream",
          "name": "stdout",
          "text": [
            "Looking in indexes: https://pypi.org/simple, https://us-python.pkg.dev/colab-wheels/public/simple/\n",
            "Collecting pycairo\n",
            "  Downloading pycairo-1.23.0.tar.gz (344 kB)\n",
            "\u001b[2K     \u001b[90m━━━━━━━━━━━━━━━━━━━━━━━━━━━━━━━━━━━━━━━\u001b[0m \u001b[32m344.6/344.6 KB\u001b[0m \u001b[31m7.4 MB/s\u001b[0m eta \u001b[36m0:00:00\u001b[0m\n",
            "\u001b[?25h  Installing build dependencies ... \u001b[?25l\u001b[?25hdone\n",
            "  Getting requirements to build wheel ... \u001b[?25l\u001b[?25hdone\n",
            "  Installing backend dependencies ... \u001b[?25l\u001b[?25hdone\n",
            "  Preparing metadata (pyproject.toml) ... \u001b[?25l\u001b[?25hdone\n",
            "Building wheels for collected packages: pycairo\n",
            "  \u001b[1;31merror\u001b[0m: \u001b[1msubprocess-exited-with-error\u001b[0m\n",
            "  \n",
            "  \u001b[31m×\u001b[0m \u001b[32mBuilding wheel for pycairo \u001b[0m\u001b[1;32m(\u001b[0m\u001b[32mpyproject.toml\u001b[0m\u001b[1;32m)\u001b[0m did not run successfully.\n",
            "  \u001b[31m│\u001b[0m exit code: \u001b[1;36m1\u001b[0m\n",
            "  \u001b[31m╰─>\u001b[0m See above for output.\n",
            "  \n",
            "  \u001b[1;35mnote\u001b[0m: This error originates from a subprocess, and is likely not a problem with pip.\n",
            "  Building wheel for pycairo (pyproject.toml) ... \u001b[?25l\u001b[?25herror\n",
            "\u001b[31m  ERROR: Failed building wheel for pycairo\u001b[0m\u001b[31m\n",
            "\u001b[0mFailed to build pycairo\n",
            "\u001b[31mERROR: Could not build wheels for pycairo, which is required to install pyproject.toml-based projects\u001b[0m\u001b[31m\n",
            "\u001b[0m"
          ]
        }
      ]
    },
    {
      "cell_type": "code",
      "source": [
        "pip install igraph"
      ],
      "metadata": {
        "colab": {
          "base_uri": "https://localhost:8080/"
        },
        "id": "BELT0avkbpPM",
        "outputId": "a1d6ee54-6948-4618-c84e-133a9429e022"
      },
      "execution_count": 13,
      "outputs": [
        {
          "output_type": "stream",
          "name": "stdout",
          "text": [
            "Looking in indexes: https://pypi.org/simple, https://us-python.pkg.dev/colab-wheels/public/simple/\n",
            "Collecting igraph\n",
            "  Downloading igraph-0.10.3-cp38-cp38-manylinux_2_17_x86_64.manylinux2014_x86_64.whl (3.3 MB)\n",
            "\u001b[2K     \u001b[90m━━━━━━━━━━━━━━━━━━━━━━━━━━━━━━━━━━━━━━━━\u001b[0m \u001b[32m3.3/3.3 MB\u001b[0m \u001b[31m33.2 MB/s\u001b[0m eta \u001b[36m0:00:00\u001b[0m\n",
            "\u001b[?25hCollecting texttable>=1.6.2\n",
            "  Downloading texttable-1.6.7-py2.py3-none-any.whl (10 kB)\n",
            "Installing collected packages: texttable, igraph\n",
            "Successfully installed igraph-0.10.3 texttable-1.6.7\n"
          ]
        }
      ]
    },
    {
      "cell_type": "code",
      "source": [
        "import pandas\n",
        "dfAdj = pandas.read_table(\"karate.txt\",header=0,index_col=0)"
      ],
      "metadata": {
        "id": "TgRkyfOCsawY"
      },
      "execution_count": 7,
      "outputs": []
    },
    {
      "cell_type": "code",
      "source": [
        "n = dfAdj.shape[0]\n",
        "print(n)\n",
        "print(dfAdj.index)"
      ],
      "metadata": {
        "id": "u-QflTF-sa1t",
        "colab": {
          "base_uri": "https://localhost:8080/"
        },
        "outputId": "45df2038-a48f-46fa-e392-13f1c5916d69"
      },
      "execution_count": 8,
      "outputs": [
        {
          "output_type": "stream",
          "name": "stdout",
          "text": [
            "34\n",
            "Index(['p1', 'p2', 'p3', 'p4', 'p5', 'p6', 'p7', 'p8', 'p9', 'p10', 'p11',\n",
            "       'p12', 'p13', 'p14', 'p15', 'p16', 'p17', 'p18', 'p19', 'p20', 'p21',\n",
            "       'p22', 'p23', 'p24', 'p25', 'p26', 'p27', 'p28', 'p29', 'p30', 'p31',\n",
            "       'p32', 'p33', 'p34'],\n",
            "      dtype='object', name='Personnes')\n"
          ]
        }
      ]
    },
    {
      "cell_type": "markdown",
      "source": [
        "transforming the dataframe into a matrix : "
      ],
      "metadata": {
        "id": "9QCkaqx8w0oQ"
      }
    },
    {
      "cell_type": "code",
      "source": [
        "MAdj = dfAdj.values\n",
        "print(MAdj)"
      ],
      "metadata": {
        "id": "DecfLnNNsa5S",
        "colab": {
          "base_uri": "https://localhost:8080/"
        },
        "outputId": "14bb3e47-03c1-43bb-8df7-8d8b3d1e7369"
      },
      "execution_count": 11,
      "outputs": [
        {
          "output_type": "stream",
          "name": "stdout",
          "text": [
            "[[0 1 1 ... 1 0 0]\n",
            " [1 0 1 ... 0 0 0]\n",
            " [1 1 0 ... 0 1 0]\n",
            " ...\n",
            " [1 0 0 ... 0 1 1]\n",
            " [0 0 1 ... 1 0 1]\n",
            " [0 0 0 ... 1 1 0]]\n"
          ]
        }
      ]
    },
    {
      "cell_type": "code",
      "source": [
        "import igraph\n",
        "print(igraph.__version__)"
      ],
      "metadata": {
        "id": "E4_BiWE-vjiX",
        "colab": {
          "base_uri": "https://localhost:8080/"
        },
        "outputId": "1140e611-5898-4e87-b57c-328b4d393f28"
      },
      "execution_count": 14,
      "outputs": [
        {
          "output_type": "stream",
          "name": "stdout",
          "text": [
            "0.10.3\n"
          ]
        }
      ]
    },
    {
      "cell_type": "markdown",
      "source": [
        "the creation of the graph from the matrix : "
      ],
      "metadata": {
        "id": "OvschHLjwtuZ"
      }
    },
    {
      "cell_type": "code",
      "source": [
        "g = igraph.Graph.Adjacency(MAdj.tolist(),mode=igraph.ADJ_UNDIRECTED)\n",
        "print(g)"
      ],
      "metadata": {
        "id": "bIMiZruAvjlY",
        "colab": {
          "base_uri": "https://localhost:8080/"
        },
        "outputId": "2c64a1be-eec8-43ce-bcd3-df2344b44ab4"
      },
      "execution_count": 15,
      "outputs": [
        {
          "output_type": "stream",
          "name": "stdout",
          "text": [
            "IGRAPH U--- 34 78 --\n",
            "+ edges:\n",
            " 0 --  1  2  3  4  5  6  7  8 10 11 12 13 17 19 21 31      25 -- 23 24 31\n",
            " 1 --  0  2  3  7 13 17 19 21 30                           26 -- 29 33\n",
            " 2 --  0  1  3  7  8  9 13 27 28 32                        27 --  2 23 24 33\n",
            " 3 --  0  1  2  7 12 13                                    28 --  2 31 33\n",
            " 4 --  0  6 10                                             29 -- 23 26 32 33\n",
            " 5 --  0  6 10 16                                          30 --  1  8 32 33\n",
            " 6 --  0  4  5 16                                          31 --  0 24 25 28\n",
            "32 33\n",
            " 7 --  0  1  2  3                                          32 --  2  8 14 15\n",
            "18 20 22 23 29 30 31 33\n",
            " 8 --  0  2 30 32 33                                       33 --  8  9 13 14\n",
            "15 18 19 20 22 23 26 27 28 29 30 31 32\n",
            " 9 --  2 33\n",
            "10 --  0  4  5\n",
            "11 --  0\n",
            "12 --  0  3\n",
            "13 --  0  1  2  3 33\n",
            "14 -- 32 33\n",
            "15 -- 32 33\n",
            "16 --  5  6\n",
            "17 --  0  1\n",
            "18 -- 32 33\n",
            "19 --  0  1 33\n",
            "20 -- 32 33\n",
            "21 --  0  1\n",
            "22 -- 32 33\n",
            "23 -- 25 27 29 32 33\n",
            "24 -- 25 27 31\n"
          ]
        }
      ]
    },
    {
      "cell_type": "markdown",
      "source": [
        "attribution des noms aux sommets du graphe."
      ],
      "metadata": {
        "id": "pHzmceggxDAy"
      }
    },
    {
      "cell_type": "code",
      "source": [
        "g.vs[\"name\"] = dfAdj.index.tolist()\n",
        "print(g.vs[10][\"name\"])"
      ],
      "metadata": {
        "id": "-JbLFenovjox",
        "colab": {
          "base_uri": "https://localhost:8080/"
        },
        "outputId": "4994d4aa-904d-49d6-b3d3-8526a7769d38"
      },
      "execution_count": 16,
      "outputs": [
        {
          "output_type": "stream",
          "name": "stdout",
          "text": [
            "p11\n"
          ]
        }
      ]
    },
    {
      "cell_type": "code",
      "source": [
        "p11"
      ],
      "metadata": {
        "id": "txmhYDvjvjrM",
        "colab": {
          "base_uri": "https://localhost:8080/",
          "height": 165
        },
        "outputId": "74ce17c5-641c-425d-dcd1-16725b3ab037"
      },
      "execution_count": 18,
      "outputs": [
        {
          "output_type": "error",
          "ename": "NameError",
          "evalue": "ignored",
          "traceback": [
            "\u001b[0;31m---------------------------------------------------------------------------\u001b[0m",
            "\u001b[0;31mNameError\u001b[0m                                 Traceback (most recent call last)",
            "\u001b[0;32m<ipython-input-18-564f5ec63346>\u001b[0m in \u001b[0;36m<module>\u001b[0;34m\u001b[0m\n\u001b[0;32m----> 1\u001b[0;31m \u001b[0mp11\u001b[0m\u001b[0;34m\u001b[0m\u001b[0;34m\u001b[0m\u001b[0m\n\u001b[0m",
            "\u001b[0;31mNameError\u001b[0m: name 'p11' is not defined"
          ]
        }
      ]
    },
    {
      "cell_type": "code",
      "source": [
        "print(g.neighborhood_size(\"p11\"))"
      ],
      "metadata": {
        "id": "wT6aigpVvjt6",
        "colab": {
          "base_uri": "https://localhost:8080/"
        },
        "outputId": "dd5dcf85-21f8-4bb8-c1e1-fda5f9774fcb"
      },
      "execution_count": 19,
      "outputs": [
        {
          "output_type": "stream",
          "name": "stdout",
          "text": [
            "4\n"
          ]
        }
      ]
    },
    {
      "cell_type": "code",
      "source": [
        "print(g.neighborhood(\"p11\"))"
      ],
      "metadata": {
        "id": "sc1esJY2vjxU",
        "colab": {
          "base_uri": "https://localhost:8080/"
        },
        "outputId": "9672d87a-7fcc-44de-919d-36659e581b14"
      },
      "execution_count": 20,
      "outputs": [
        {
          "output_type": "stream",
          "name": "stdout",
          "text": [
            "[10, 0, 4, 5]\n"
          ]
        }
      ]
    },
    {
      "cell_type": "code",
      "source": [
        "print(g.vs[g.neighborhood(\"p11\")]['name'])"
      ],
      "metadata": {
        "id": "4rOGy3LLrmvy",
        "colab": {
          "base_uri": "https://localhost:8080/"
        },
        "outputId": "aec03764-d0f6-4bf8-be48-d5044acf79c6"
      },
      "execution_count": 21,
      "outputs": [
        {
          "output_type": "stream",
          "name": "stdout",
          "text": [
            "['p11', 'p1', 'p5', 'p6']\n"
          ]
        }
      ]
    },
    {
      "cell_type": "markdown",
      "source": [
        "# Graphic representation : "
      ],
      "metadata": {
        "id": "ZoTIXHNF5FGO"
      }
    },
    {
      "cell_type": "code",
      "source": [
        "pip install cairocffi"
      ],
      "metadata": {
        "colab": {
          "base_uri": "https://localhost:8080/"
        },
        "id": "lt4Of8L4cAdI",
        "outputId": "93bf21cc-385f-4dd1-a056-e09a19e0d768"
      },
      "execution_count": 23,
      "outputs": [
        {
          "output_type": "stream",
          "name": "stdout",
          "text": [
            "Looking in indexes: https://pypi.org/simple, https://us-python.pkg.dev/colab-wheels/public/simple/\n",
            "Collecting cairocffi\n",
            "  Downloading cairocffi-1.4.0.tar.gz (69 kB)\n",
            "\u001b[?25l     \u001b[90m━━━━━━━━━━━━━━━━━━━━━━━━━━━━━━━━━━━━━━━━\u001b[0m \u001b[32m0.0/69.9 KB\u001b[0m \u001b[31m?\u001b[0m eta \u001b[36m-:--:--\u001b[0m\r\u001b[2K     \u001b[90m━━━━━━━━━━━━━━━━━━━━━━━━━━━━━━━━━━━━━━━━\u001b[0m \u001b[32m69.9/69.9 KB\u001b[0m \u001b[31m3.3 MB/s\u001b[0m eta \u001b[36m0:00:00\u001b[0m\n",
            "\u001b[?25h  Preparing metadata (setup.py) ... \u001b[?25l\u001b[?25hdone\n",
            "Requirement already satisfied: cffi>=1.1.0 in /usr/local/lib/python3.8/dist-packages (from cairocffi) (1.15.1)\n",
            "Requirement already satisfied: pycparser in /usr/local/lib/python3.8/dist-packages (from cffi>=1.1.0->cairocffi) (2.21)\n",
            "Building wheels for collected packages: cairocffi\n",
            "  Building wheel for cairocffi (setup.py) ... \u001b[?25l\u001b[?25hdone\n",
            "  Created wheel for cairocffi: filename=cairocffi-1.4.0-py3-none-any.whl size=88775 sha256=f43a6786aeba348f57764ba95f78167c5a8b5ded1f91eeda2cd44a069b55fb82\n",
            "  Stored in directory: /root/.cache/pip/wheels/01/a9/c0/5c05f9dd73c21f9a7716690642823cdba55594d17a9bd69daf\n",
            "Successfully built cairocffi\n",
            "Installing collected packages: cairocffi\n",
            "Successfully installed cairocffi-1.4.0\n"
          ]
        }
      ]
    },
    {
      "cell_type": "code",
      "source": [
        "g.vs['label'] = dfAdj.index.tolist()\n",
        "print(g.vs[0]['label'])\n",
        "#affichage du graphe\n",
        "obj = igraph.plot(g,vertex_label_size=15,vertex_size=35,vertex_color='#ffe4c4')\n",
        "obj.show()"
      ],
      "metadata": {
        "id": "Cgp4eNlTrmy5",
        "colab": {
          "base_uri": "https://localhost:8080/",
          "height": 235
        },
        "outputId": "d3e59542-83d6-4e9b-e1b3-249ca0f0c351"
      },
      "execution_count": 27,
      "outputs": [
        {
          "output_type": "stream",
          "name": "stdout",
          "text": [
            "p1\n"
          ]
        },
        {
          "output_type": "error",
          "ename": "TypeError",
          "evalue": "ignored",
          "traceback": [
            "\u001b[0;31m---------------------------------------------------------------------------\u001b[0m",
            "\u001b[0;31mTypeError\u001b[0m                                 Traceback (most recent call last)",
            "\u001b[0;32m<ipython-input-27-c2cfe7c0f400>\u001b[0m in \u001b[0;36m<module>\u001b[0;34m\u001b[0m\n\u001b[1;32m      3\u001b[0m \u001b[0mprint\u001b[0m\u001b[0;34m(\u001b[0m\u001b[0mg\u001b[0m\u001b[0;34m.\u001b[0m\u001b[0mvs\u001b[0m\u001b[0;34m[\u001b[0m\u001b[0;36m0\u001b[0m\u001b[0;34m]\u001b[0m\u001b[0;34m[\u001b[0m\u001b[0;34m'label'\u001b[0m\u001b[0;34m]\u001b[0m\u001b[0;34m)\u001b[0m\u001b[0;34m\u001b[0m\u001b[0;34m\u001b[0m\u001b[0m\n\u001b[1;32m      4\u001b[0m \u001b[0;31m#affichage du graphe\u001b[0m\u001b[0;34m\u001b[0m\u001b[0;34m\u001b[0m\u001b[0;34m\u001b[0m\u001b[0m\n\u001b[0;32m----> 5\u001b[0;31m \u001b[0mobj\u001b[0m \u001b[0;34m=\u001b[0m \u001b[0mcairocffi\u001b[0m\u001b[0;34m(\u001b[0m\u001b[0mg\u001b[0m\u001b[0;34m,\u001b[0m\u001b[0mvertex_label_size\u001b[0m\u001b[0;34m=\u001b[0m\u001b[0;36m15\u001b[0m\u001b[0;34m,\u001b[0m\u001b[0mvertex_size\u001b[0m\u001b[0;34m=\u001b[0m\u001b[0;36m35\u001b[0m\u001b[0;34m,\u001b[0m\u001b[0mvertex_color\u001b[0m\u001b[0;34m=\u001b[0m\u001b[0;34m'#ffe4c4'\u001b[0m\u001b[0;34m)\u001b[0m\u001b[0;34m\u001b[0m\u001b[0;34m\u001b[0m\u001b[0m\n\u001b[0m\u001b[1;32m      6\u001b[0m \u001b[0mobj\u001b[0m\u001b[0;34m.\u001b[0m\u001b[0mshow\u001b[0m\u001b[0;34m(\u001b[0m\u001b[0;34m)\u001b[0m\u001b[0;34m\u001b[0m\u001b[0;34m\u001b[0m\u001b[0m\n",
            "\u001b[0;31mTypeError\u001b[0m: 'module' object is not callable"
          ]
        }
      ]
    },
    {
      "cell_type": "code",
      "source": [],
      "metadata": {
        "id": "zmR2cyRirm1w"
      },
      "execution_count": null,
      "outputs": []
    },
    {
      "cell_type": "code",
      "source": [],
      "metadata": {
        "id": "3WPWfG7u5qLS"
      },
      "execution_count": null,
      "outputs": []
    },
    {
      "cell_type": "code",
      "source": [],
      "metadata": {
        "id": "FFcK-__L5qN8"
      },
      "execution_count": null,
      "outputs": []
    },
    {
      "cell_type": "code",
      "source": [],
      "metadata": {
        "id": "-6SU4wWi5qRT"
      },
      "execution_count": null,
      "outputs": []
    },
    {
      "cell_type": "code",
      "source": [],
      "metadata": {
        "id": "S0CNf-Jf5qUL"
      },
      "execution_count": null,
      "outputs": []
    },
    {
      "cell_type": "code",
      "source": [],
      "metadata": {
        "id": "0blUGCO9rm5a"
      },
      "execution_count": null,
      "outputs": []
    }
  ]
}